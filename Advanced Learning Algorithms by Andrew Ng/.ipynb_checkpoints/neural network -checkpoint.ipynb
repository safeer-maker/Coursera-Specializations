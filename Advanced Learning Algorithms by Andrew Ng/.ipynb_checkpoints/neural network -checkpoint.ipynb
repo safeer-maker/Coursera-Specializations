{
 "cells": [
  {
   "cell_type": "markdown",
   "id": "c91bea35",
   "metadata": {},
   "source": [
    "## Neural network working\n",
    "\n",
    "in this lab i will try to implement the neural network i have learned in this course"
   ]
  },
  {
   "cell_type": "code",
   "execution_count": 7,
   "id": "f10174d9",
   "metadata": {},
   "outputs": [],
   "source": [
    "import numpy as np\n",
    "import pandas as pd\n",
    "import matplotlib.pyplot as plt\n",
    "plt.style.use(\"Solarize_Light2\")\n",
    "\n",
    "import tensorflow as tf\n",
    "import logging\n",
    "logging.getLogger(\"tensorflow\").setLevel(logging.ERROR)\n",
    "tf.autograph.set_verbosity(0)"
   ]
  },
  {
   "cell_type": "code",
   "execution_count": 8,
   "id": "a25c4835",
   "metadata": {},
   "outputs": [],
   "source": [
    "coffee_df = pd.read_csv('coffe_df.csv')"
   ]
  },
  {
   "cell_type": "code",
   "execution_count": 12,
   "id": "7bc5f450",
   "metadata": {},
   "outputs": [],
   "source": [
    "coffee_df = coffee_df.drop(\"Unnamed: 0\" ,axis = 1)"
   ]
  },
  {
   "cell_type": "code",
   "execution_count": 13,
   "id": "96e1067c",
   "metadata": {},
   "outputs": [
    {
     "data": {
      "text/html": [
       "<div>\n",
       "<style scoped>\n",
       "    .dataframe tbody tr th:only-of-type {\n",
       "        vertical-align: middle;\n",
       "    }\n",
       "\n",
       "    .dataframe tbody tr th {\n",
       "        vertical-align: top;\n",
       "    }\n",
       "\n",
       "    .dataframe thead th {\n",
       "        text-align: right;\n",
       "    }\n",
       "</style>\n",
       "<table border=\"1\" class=\"dataframe\">\n",
       "  <thead>\n",
       "    <tr style=\"text-align: right;\">\n",
       "      <th></th>\n",
       "      <th>0</th>\n",
       "      <th>1</th>\n",
       "      <th>y</th>\n",
       "    </tr>\n",
       "  </thead>\n",
       "  <tbody>\n",
       "    <tr>\n",
       "      <th>0</th>\n",
       "      <td>185.317638</td>\n",
       "      <td>12.693965</td>\n",
       "      <td>1.0</td>\n",
       "    </tr>\n",
       "    <tr>\n",
       "      <th>1</th>\n",
       "      <td>259.920475</td>\n",
       "      <td>11.867664</td>\n",
       "      <td>0.0</td>\n",
       "    </tr>\n",
       "    <tr>\n",
       "      <th>2</th>\n",
       "      <td>231.013571</td>\n",
       "      <td>14.414242</td>\n",
       "      <td>0.0</td>\n",
       "    </tr>\n",
       "    <tr>\n",
       "      <th>3</th>\n",
       "      <td>175.366645</td>\n",
       "      <td>11.720587</td>\n",
       "      <td>0.0</td>\n",
       "    </tr>\n",
       "    <tr>\n",
       "      <th>4</th>\n",
       "      <td>187.120865</td>\n",
       "      <td>14.129732</td>\n",
       "      <td>1.0</td>\n",
       "    </tr>\n",
       "    <tr>\n",
       "      <th>...</th>\n",
       "      <td>...</td>\n",
       "      <td>...</td>\n",
       "      <td>...</td>\n",
       "    </tr>\n",
       "    <tr>\n",
       "      <th>195</th>\n",
       "      <td>223.781833</td>\n",
       "      <td>15.299167</td>\n",
       "      <td>0.0</td>\n",
       "    </tr>\n",
       "    <tr>\n",
       "      <th>196</th>\n",
       "      <td>266.627673</td>\n",
       "      <td>12.480510</td>\n",
       "      <td>0.0</td>\n",
       "    </tr>\n",
       "    <tr>\n",
       "      <th>197</th>\n",
       "      <td>273.683982</td>\n",
       "      <td>13.097562</td>\n",
       "      <td>0.0</td>\n",
       "    </tr>\n",
       "    <tr>\n",
       "      <th>198</th>\n",
       "      <td>220.610006</td>\n",
       "      <td>12.799891</td>\n",
       "      <td>1.0</td>\n",
       "    </tr>\n",
       "    <tr>\n",
       "      <th>199</th>\n",
       "      <td>284.994342</td>\n",
       "      <td>12.728294</td>\n",
       "      <td>0.0</td>\n",
       "    </tr>\n",
       "  </tbody>\n",
       "</table>\n",
       "<p>200 rows × 3 columns</p>\n",
       "</div>"
      ],
      "text/plain": [
       "              0          1    y\n",
       "0    185.317638  12.693965  1.0\n",
       "1    259.920475  11.867664  0.0\n",
       "2    231.013571  14.414242  0.0\n",
       "3    175.366645  11.720587  0.0\n",
       "4    187.120865  14.129732  1.0\n",
       "..          ...        ...  ...\n",
       "195  223.781833  15.299167  0.0\n",
       "196  266.627673  12.480510  0.0\n",
       "197  273.683982  13.097562  0.0\n",
       "198  220.610006  12.799891  1.0\n",
       "199  284.994342  12.728294  0.0\n",
       "\n",
       "[200 rows x 3 columns]"
      ]
     },
     "execution_count": 13,
     "metadata": {},
     "output_type": "execute_result"
    }
   ],
   "source": [
    "coffee_df"
   ]
  },
  {
   "cell_type": "code",
   "execution_count": 14,
   "id": "bf7f29e3",
   "metadata": {},
   "outputs": [],
   "source": [
    "y = coffee_df.y"
   ]
  },
  {
   "cell_type": "code",
   "execution_count": 23,
   "id": "8e49920a",
   "metadata": {},
   "outputs": [],
   "source": [
    "x = coffee_df[[\"0\",'1']]"
   ]
  },
  {
   "cell_type": "code",
   "execution_count": 24,
   "id": "8b4046bb",
   "metadata": {},
   "outputs": [],
   "source": [
    "x = x.to_numpy()"
   ]
  }
 ],
 "metadata": {
  "kernelspec": {
   "display_name": "Python 3 (ipykernel)",
   "language": "python",
   "name": "python3"
  },
  "language_info": {
   "codemirror_mode": {
    "name": "ipython",
    "version": 3
   },
   "file_extension": ".py",
   "mimetype": "text/x-python",
   "name": "python",
   "nbconvert_exporter": "python",
   "pygments_lexer": "ipython3",
   "version": "3.9.15"
  }
 },
 "nbformat": 4,
 "nbformat_minor": 5
}
