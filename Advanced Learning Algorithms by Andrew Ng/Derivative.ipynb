{
 "cells": [
  {
   "cell_type": "code",
   "execution_count": 1,
   "id": "ccf28bd8",
   "metadata": {},
   "outputs": [],
   "source": [
    "import sympy as sp"
   ]
  },
  {
   "cell_type": "code",
   "execution_count": 2,
   "id": "d763ff64",
   "metadata": {},
   "outputs": [],
   "source": [
    "J, w = sp.symbols ('J,w')"
   ]
  },
  {
   "cell_type": "code",
   "execution_count": 3,
   "id": "35e4b907",
   "metadata": {},
   "outputs": [],
   "source": [
    "J = w ** 2"
   ]
  },
  {
   "cell_type": "code",
   "execution_count": 4,
   "id": "550b5391",
   "metadata": {},
   "outputs": [
    {
     "data": {
      "text/latex": [
       "$\\displaystyle w^{2}$"
      ],
      "text/plain": [
       "w**2"
      ]
     },
     "execution_count": 4,
     "metadata": {},
     "output_type": "execute_result"
    }
   ],
   "source": [
    "J"
   ]
  },
  {
   "cell_type": "code",
   "execution_count": 10,
   "id": "3076b21f",
   "metadata": {},
   "outputs": [
    {
     "data": {
      "text/latex": [
       "$\\displaystyle 2 w$"
      ],
      "text/plain": [
       "2*w"
      ]
     },
     "execution_count": 10,
     "metadata": {},
     "output_type": "execute_result"
    }
   ],
   "source": [
    "df_j = sp.diff(J,w)\n",
    "df_j"
   ]
  },
  {
   "cell_type": "code",
   "execution_count": 11,
   "id": "9b6b14eb",
   "metadata": {},
   "outputs": [
    {
     "data": {
      "text/latex": [
       "$\\displaystyle 10$"
      ],
      "text/plain": [
       "10"
      ]
     },
     "execution_count": 11,
     "metadata": {},
     "output_type": "execute_result"
    }
   ],
   "source": [
    "df_j.subs([(w,5)])"
   ]
  },
  {
   "cell_type": "code",
   "execution_count": null,
   "id": "d63c6bf3",
   "metadata": {},
   "outputs": [],
   "source": [
    "sp.jacobi"
   ]
  },
  {
   "cell_type": "code",
   "execution_count": null,
   "id": "771969d7",
   "metadata": {},
   "outputs": [],
   "source": []
  }
 ],
 "metadata": {
  "kernelspec": {
   "display_name": "Python 3 (ipykernel)",
   "language": "python",
   "name": "python3"
  },
  "language_info": {
   "codemirror_mode": {
    "name": "ipython",
    "version": 3
   },
   "file_extension": ".py",
   "mimetype": "text/x-python",
   "name": "python",
   "nbconvert_exporter": "python",
   "pygments_lexer": "ipython3",
   "version": "3.9.15"
  }
 },
 "nbformat": 4,
 "nbformat_minor": 5
}
