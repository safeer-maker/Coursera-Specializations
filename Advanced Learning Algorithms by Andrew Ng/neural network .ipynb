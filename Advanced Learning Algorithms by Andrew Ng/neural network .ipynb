{
 "cells": [
  {
   "cell_type": "markdown",
   "id": "30a15b42",
   "metadata": {},
   "source": [
    "## Neural network working\n",
    "\n",
    "in this lab i will try to implement the neural network i have learned in this course"
   ]
  },
  {
   "cell_type": "code",
   "execution_count": 82,
   "id": "d03743fe",
   "metadata": {},
   "outputs": [],
   "source": [
    "import numpy as np\n",
    "import pandas as pd\n",
    "import matplotlib.pyplot as plt\n",
    "plt.style.use(\"Solarize_Light2\")\n",
    "\n",
    "import tensorflow as tf\n",
    "from tensorflow.keras.models import Sequential\n",
    "from tensorflow.keras.layers import Dense\n",
    "import logging\n",
    "logging.getLogger(\"tensorflow\").setLevel(logging.ERROR)\n",
    "tf.autograph.set_verbosity(0)"
   ]
  },
  {
   "cell_type": "code",
   "execution_count": 2,
   "id": "3438e5e9",
   "metadata": {},
   "outputs": [],
   "source": [
    "coffee_df = pd.read_csv('coffe_df.csv')"
   ]
  },
  {
   "cell_type": "code",
   "execution_count": 3,
   "id": "1348b803",
   "metadata": {},
   "outputs": [],
   "source": [
    "coffee_df = coffee_df.drop(\"Unnamed: 0\" ,axis = 1)"
   ]
  },
  {
   "cell_type": "code",
   "execution_count": 4,
   "id": "c0127a5d",
   "metadata": {},
   "outputs": [
    {
     "data": {
      "text/html": [
       "<div>\n",
       "<style scoped>\n",
       "    .dataframe tbody tr th:only-of-type {\n",
       "        vertical-align: middle;\n",
       "    }\n",
       "\n",
       "    .dataframe tbody tr th {\n",
       "        vertical-align: top;\n",
       "    }\n",
       "\n",
       "    .dataframe thead th {\n",
       "        text-align: right;\n",
       "    }\n",
       "</style>\n",
       "<table border=\"1\" class=\"dataframe\">\n",
       "  <thead>\n",
       "    <tr style=\"text-align: right;\">\n",
       "      <th></th>\n",
       "      <th>0</th>\n",
       "      <th>1</th>\n",
       "      <th>y</th>\n",
       "    </tr>\n",
       "  </thead>\n",
       "  <tbody>\n",
       "    <tr>\n",
       "      <th>0</th>\n",
       "      <td>185.317638</td>\n",
       "      <td>12.693965</td>\n",
       "      <td>1.0</td>\n",
       "    </tr>\n",
       "    <tr>\n",
       "      <th>1</th>\n",
       "      <td>259.920475</td>\n",
       "      <td>11.867664</td>\n",
       "      <td>0.0</td>\n",
       "    </tr>\n",
       "    <tr>\n",
       "      <th>2</th>\n",
       "      <td>231.013571</td>\n",
       "      <td>14.414242</td>\n",
       "      <td>0.0</td>\n",
       "    </tr>\n",
       "    <tr>\n",
       "      <th>3</th>\n",
       "      <td>175.366645</td>\n",
       "      <td>11.720587</td>\n",
       "      <td>0.0</td>\n",
       "    </tr>\n",
       "    <tr>\n",
       "      <th>4</th>\n",
       "      <td>187.120865</td>\n",
       "      <td>14.129732</td>\n",
       "      <td>1.0</td>\n",
       "    </tr>\n",
       "    <tr>\n",
       "      <th>...</th>\n",
       "      <td>...</td>\n",
       "      <td>...</td>\n",
       "      <td>...</td>\n",
       "    </tr>\n",
       "    <tr>\n",
       "      <th>195</th>\n",
       "      <td>223.781833</td>\n",
       "      <td>15.299167</td>\n",
       "      <td>0.0</td>\n",
       "    </tr>\n",
       "    <tr>\n",
       "      <th>196</th>\n",
       "      <td>266.627673</td>\n",
       "      <td>12.480510</td>\n",
       "      <td>0.0</td>\n",
       "    </tr>\n",
       "    <tr>\n",
       "      <th>197</th>\n",
       "      <td>273.683982</td>\n",
       "      <td>13.097562</td>\n",
       "      <td>0.0</td>\n",
       "    </tr>\n",
       "    <tr>\n",
       "      <th>198</th>\n",
       "      <td>220.610006</td>\n",
       "      <td>12.799891</td>\n",
       "      <td>1.0</td>\n",
       "    </tr>\n",
       "    <tr>\n",
       "      <th>199</th>\n",
       "      <td>284.994342</td>\n",
       "      <td>12.728294</td>\n",
       "      <td>0.0</td>\n",
       "    </tr>\n",
       "  </tbody>\n",
       "</table>\n",
       "<p>200 rows × 3 columns</p>\n",
       "</div>"
      ],
      "text/plain": [
       "              0          1    y\n",
       "0    185.317638  12.693965  1.0\n",
       "1    259.920475  11.867664  0.0\n",
       "2    231.013571  14.414242  0.0\n",
       "3    175.366645  11.720587  0.0\n",
       "4    187.120865  14.129732  1.0\n",
       "..          ...        ...  ...\n",
       "195  223.781833  15.299167  0.0\n",
       "196  266.627673  12.480510  0.0\n",
       "197  273.683982  13.097562  0.0\n",
       "198  220.610006  12.799891  1.0\n",
       "199  284.994342  12.728294  0.0\n",
       "\n",
       "[200 rows x 3 columns]"
      ]
     },
     "execution_count": 4,
     "metadata": {},
     "output_type": "execute_result"
    }
   ],
   "source": [
    "coffee_df"
   ]
  },
  {
   "cell_type": "code",
   "execution_count": 24,
   "id": "26260f9d",
   "metadata": {},
   "outputs": [],
   "source": [
    "y = np.array(coffee_df.y)"
   ]
  },
  {
   "cell_type": "code",
   "execution_count": 6,
   "id": "8e936047",
   "metadata": {},
   "outputs": [],
   "source": [
    "x = coffee_df[[\"0\",'1']]"
   ]
  },
  {
   "cell_type": "code",
   "execution_count": 7,
   "id": "daf6c307",
   "metadata": {},
   "outputs": [],
   "source": [
    "x = x.to_numpy()"
   ]
  },
  {
   "cell_type": "code",
   "execution_count": 8,
   "id": "1e1f6ec2",
   "metadata": {},
   "outputs": [
    {
     "data": {
      "text/plain": [
       "(200, 2)"
      ]
     },
     "execution_count": 8,
     "metadata": {},
     "output_type": "execute_result"
    }
   ],
   "source": [
    "x.shape"
   ]
  },
  {
   "cell_type": "code",
   "execution_count": 9,
   "id": "0c6be1ea",
   "metadata": {},
   "outputs": [],
   "source": [
    "x_pos = x[y == 1]"
   ]
  },
  {
   "cell_type": "code",
   "execution_count": 10,
   "id": "ad277c05",
   "metadata": {},
   "outputs": [
    {
     "data": {
      "text/plain": [
       "(43, 2)"
      ]
     },
     "execution_count": 10,
     "metadata": {},
     "output_type": "execute_result"
    }
   ],
   "source": [
    "x_pos.shape"
   ]
  },
  {
   "cell_type": "code",
   "execution_count": 11,
   "id": "fe3858fe",
   "metadata": {},
   "outputs": [
    {
     "data": {
      "text/plain": [
       "(157, 2)"
      ]
     },
     "execution_count": 11,
     "metadata": {},
     "output_type": "execute_result"
    }
   ],
   "source": [
    "x_neg = x [y ==0]\n",
    "x_neg.shape"
   ]
  },
  {
   "cell_type": "code",
   "execution_count": 12,
   "id": "7caa0a28",
   "metadata": {},
   "outputs": [],
   "source": [
    "plt.style.use(\"./deeplearning.mplstyle\")"
   ]
  },
  {
   "cell_type": "code",
   "execution_count": 13,
   "id": "29694da5",
   "metadata": {},
   "outputs": [
    {
     "data": {
      "text/plain": [
       "<matplotlib.legend.Legend at 0x151a3730fd0>"
      ]
     },
     "execution_count": 13,
     "metadata": {},
     "output_type": "execute_result"
    },
    {
     "data": {
      "image/png": "[encoded data removed]",
      "text/plain": [
       "<Figure size 700x700 with 1 Axes>"
      ]
     },
     "metadata": {},
     "output_type": "display_data"
    }
   ],
   "source": [
    "fig, ax = plt.subplots(figsize = (7,7))\n",
    "\n",
    "ax.scatter( x = x_pos[:,0] , y = x_pos [:,1], marker='o', label = \"positive\" )\n",
    "ax.scatter( x = x_neg[:,0] , y = x_neg [:,1], marker ='x', label = 'negetive')\n",
    "ax.legend()"
   ]
  },
  {
   "cell_type": "markdown",
   "id": "bae3535f",
   "metadata": {},
   "source": [
    "Normalize the data frame"
   ]
  },
  {
   "cell_type": "code",
   "execution_count": 14,
   "id": "2247e0d7",
   "metadata": {},
   "outputs": [
    {
     "name": "stdout",
     "output_type": "stream",
     "text": [
      "max temeperature point is  185.31763812365773  and minimun temperature point is  12.693964573656494\n",
      "normalize max temp =  1.6597538  and min temperature  -1.6852188\n"
     ]
    }
   ],
   "source": [
    "temperatire_max = max(x[0])\n",
    "temperatire_min = min(x[0])\n",
    "print (\"max temeperature point is \",temperatire_max, \" and minimun temperature point is \", temperatire_min)\n",
    "norm_tenser = tf.keras.layers.Normalization()\n",
    "norm_tenser.adapt(x)\n",
    "x_norm = norm_tenser(x)\n",
    "print ('normalize max temp = ' , np.max(x_norm[:,0]), ' and min temperature ',np.min(x_norm[:,0]))\n",
    "\n"
   ]
  },
  {
   "cell_type": "code",
   "execution_count": 26,
   "id": "30ba9efb",
   "metadata": {},
   "outputs": [
    {
     "data": {
      "text/plain": [
       "(TensorShape([200, 2]),\n",
       " (200, 2),\n",
       " array([[1.],\n",
       "        [0.],\n",
       "        [0.],\n",
       "        [0.],\n",
       "        [1.],\n",
       "        [1.],\n",
       "        [0.],\n",
       "        [0.],\n",
       "        [0.],\n",
       "        [1.],\n",
       "        [1.],\n",
       "        [0.],\n",
       "        [0.],\n",
       "        [0.],\n",
       "        [0.],\n",
       "        [0.],\n",
       "        [0.],\n",
       "        [0.],\n",
       "        [0.],\n",
       "        [0.],\n",
       "        [0.],\n",
       "        [0.],\n",
       "        [0.],\n",
       "        [1.],\n",
       "        [0.],\n",
       "        [0.],\n",
       "        [0.],\n",
       "        [0.],\n",
       "        [0.],\n",
       "        [1.],\n",
       "        [0.],\n",
       "        [0.],\n",
       "        [0.],\n",
       "        [0.],\n",
       "        [0.],\n",
       "        [0.],\n",
       "        [0.],\n",
       "        [0.],\n",
       "        [0.],\n",
       "        [0.],\n",
       "        [0.],\n",
       "        [0.],\n",
       "        [0.],\n",
       "        [0.],\n",
       "        [0.],\n",
       "        [0.],\n",
       "        [0.],\n",
       "        [1.],\n",
       "        [0.],\n",
       "        [0.],\n",
       "        [1.],\n",
       "        [1.],\n",
       "        [0.],\n",
       "        [0.],\n",
       "        [0.],\n",
       "        [0.],\n",
       "        [0.],\n",
       "        [0.],\n",
       "        [0.],\n",
       "        [0.],\n",
       "        [0.],\n",
       "        [0.],\n",
       "        [0.],\n",
       "        [0.],\n",
       "        [0.],\n",
       "        [0.],\n",
       "        [0.],\n",
       "        [0.],\n",
       "        [1.],\n",
       "        [1.],\n",
       "        [0.],\n",
       "        [0.],\n",
       "        [1.],\n",
       "        [0.],\n",
       "        [0.],\n",
       "        [0.],\n",
       "        [0.],\n",
       "        [0.],\n",
       "        [0.],\n",
       "        [0.],\n",
       "        [0.],\n",
       "        [0.],\n",
       "        [0.],\n",
       "        [0.],\n",
       "        [0.],\n",
       "        [1.],\n",
       "        [1.],\n",
       "        [0.],\n",
       "        [0.],\n",
       "        [0.],\n",
       "        [0.],\n",
       "        [0.],\n",
       "        [0.],\n",
       "        [0.],\n",
       "        [0.],\n",
       "        [0.],\n",
       "        [0.],\n",
       "        [0.],\n",
       "        [0.],\n",
       "        [1.],\n",
       "        [0.],\n",
       "        [1.],\n",
       "        [1.],\n",
       "        [0.],\n",
       "        [1.],\n",
       "        [0.],\n",
       "        [0.],\n",
       "        [0.],\n",
       "        [0.],\n",
       "        [0.],\n",
       "        [0.],\n",
       "        [0.],\n",
       "        [0.],\n",
       "        [0.],\n",
       "        [0.],\n",
       "        [0.],\n",
       "        [0.],\n",
       "        [0.],\n",
       "        [1.],\n",
       "        [1.],\n",
       "        [0.],\n",
       "        [0.],\n",
       "        [0.],\n",
       "        [1.],\n",
       "        [1.],\n",
       "        [0.],\n",
       "        [0.],\n",
       "        [1.],\n",
       "        [0.],\n",
       "        [0.],\n",
       "        [1.],\n",
       "        [0.],\n",
       "        [0.],\n",
       "        [0.],\n",
       "        [1.],\n",
       "        [0.],\n",
       "        [0.],\n",
       "        [0.],\n",
       "        [0.],\n",
       "        [1.],\n",
       "        [0.],\n",
       "        [0.],\n",
       "        [0.],\n",
       "        [0.],\n",
       "        [1.],\n",
       "        [0.],\n",
       "        [0.],\n",
       "        [1.],\n",
       "        [0.],\n",
       "        [0.],\n",
       "        [1.],\n",
       "        [0.],\n",
       "        [0.],\n",
       "        [0.],\n",
       "        [1.],\n",
       "        [0.],\n",
       "        [0.],\n",
       "        [0.],\n",
       "        [0.],\n",
       "        [0.],\n",
       "        [0.],\n",
       "        [1.],\n",
       "        [0.],\n",
       "        [0.],\n",
       "        [0.],\n",
       "        [1.],\n",
       "        [0.],\n",
       "        [0.],\n",
       "        [0.],\n",
       "        [0.],\n",
       "        [0.],\n",
       "        [0.],\n",
       "        [1.],\n",
       "        [1.],\n",
       "        [1.],\n",
       "        [1.],\n",
       "        [0.],\n",
       "        [0.],\n",
       "        [1.],\n",
       "        [1.],\n",
       "        [0.],\n",
       "        [0.],\n",
       "        [0.],\n",
       "        [0.],\n",
       "        [0.],\n",
       "        [0.],\n",
       "        [1.],\n",
       "        [0.],\n",
       "        [0.],\n",
       "        [0.],\n",
       "        [0.],\n",
       "        [0.],\n",
       "        [0.],\n",
       "        [1.],\n",
       "        [1.],\n",
       "        [0.],\n",
       "        [0.],\n",
       "        [0.],\n",
       "        [1.],\n",
       "        [0.]]))"
      ]
     },
     "execution_count": 26,
     "metadata": {},
     "output_type": "execute_result"
    }
   ],
   "source": [
    "x_norm.shape, x.shape, y.reshape((200,1))"
   ]
  },
  {
   "cell_type": "code",
   "execution_count": 27,
   "id": "87a7b880",
   "metadata": {},
   "outputs": [
    {
     "name": "stdout",
     "output_type": "stream",
     "text": [
      "the shape of new X (200000, 2) and new y is (200000, 1)\n"
     ]
    }
   ],
   "source": [
    "xt = np.tile(x_norm,(1000,1))\n",
    "yt = np.tile(y.reshape((200,1)),(1000,1))\n",
    "print (f'the shape of new X {xt.shape} and new y is {yt.shape}')"
   ]
  },
  {
   "cell_type": "markdown",
   "id": "ec537075",
   "metadata": {},
   "source": [
    "Creating my owm neural network\n",
    "using sigmoid function"
   ]
  },
  {
   "cell_type": "code",
   "execution_count": 38,
   "id": "a8c91515",
   "metadata": {},
   "outputs": [
    {
     "data": {
      "text/plain": [
       "0.5"
      ]
     },
     "execution_count": 38,
     "metadata": {},
     "output_type": "execute_result"
    }
   ],
   "source": [
    "def sigmoid (z):\n",
    "    return 1/(1+np.exp(-z))\n",
    "\n",
    "sigmoid(0)"
   ]
  },
  {
   "cell_type": "code",
   "execution_count": 42,
   "id": "6bfc9b9f",
   "metadata": {},
   "outputs": [],
   "source": [
    "W1_tmp = np.array( [[-8.93,  0.29, 12.9 ], [-0.1,  -7.32, 10.81]] )\n",
    "b1_tmp = np.array( [-9.82, -9.28,  0.96] )\n",
    "W2_tmp = np.array( [[-31.18], [-27.59], [-32.56]] )\n",
    "b2_tmp = np.array( [15.41] )"
   ]
  },
  {
   "cell_type": "code",
   "execution_count": 48,
   "id": "b9660794",
   "metadata": {},
   "outputs": [
    {
     "data": {
      "text/plain": [
       "<tf.Tensor: shape=(2,), dtype=float32, numpy=array([-0.83455515, -0.6528792 ], dtype=float32)>"
      ]
     },
     "execution_count": 48,
     "metadata": {},
     "output_type": "execute_result"
    }
   ],
   "source": [
    "x_norm[0]"
   ]
  },
  {
   "cell_type": "code",
   "execution_count": 64,
   "id": "d7970d14",
   "metadata": {},
   "outputs": [
    {
     "data": {
      "text/plain": [
       "array([9.09463285e-02, 8.63768551e-03, 4.74596771e-08])"
      ]
     },
     "execution_count": 64,
     "metadata": {},
     "output_type": "execute_result"
    }
   ],
   "source": [
    "def dense(x: np.array([]),w,b):\n",
    "    u = w.shape[1]\n",
    "    #print('w.shape ', w.shape, \" x.shape \", x.shape, \" x \", x)\n",
    "    out = np.zeros(u)\n",
    "    for i in range(u):\n",
    "        z = np.dot( x ,w[:,i]  ) + b[i]\n",
    "        #print (z)\n",
    "        out[i] = sigmoid(z)\n",
    "    return out\n",
    "\n",
    "dense(np.array(x_norm[0]),  W1_tmp, b1_tmp) "
   ]
  },
  {
   "cell_type": "code",
   "execution_count": 74,
   "id": "e9fcba45",
   "metadata": {},
   "outputs": [],
   "source": [
    "def sequence (x, w1,b1,w2,b2):\n",
    "    a1 = dense (x, w1, b1)\n",
    "    a2 = dense (a1, w2, b2)\n",
    "    return a2"
   ]
  },
  {
   "cell_type": "code",
   "execution_count": 70,
   "id": "39275bb2",
   "metadata": {},
   "outputs": [],
   "source": [
    "def my_predict(X, W1, b1, W2, b2):\n",
    "    m = X.shape[0]\n",
    "    p = np.zeros((m,1))\n",
    "    for i in range(m):\n",
    "        p[i,0] = sequence(X[i], W1, b1, W2, b2)\n",
    "    return(p)"
   ]
  },
  {
   "cell_type": "code",
   "execution_count": 75,
   "id": "e600a860",
   "metadata": {},
   "outputs": [],
   "source": [
    "X_tst = np.array([\n",
    "    [200,13.9],  # postive example\n",
    "    [200,17]])   # negative example\n",
    "X_tstn = norm_tenser(X_tst)  # remember to normalize\n",
    "predictions = my_predict(X_tstn, W1_tmp, b1_tmp, W2_tmp, b2_tmp)"
   ]
  },
  {
   "cell_type": "code",
   "execution_count": 76,
   "id": "6e4b8e32",
   "metadata": {},
   "outputs": [
    {
     "data": {
      "text/plain": [
       "array([[9.71932366e-01],\n",
       "       [3.28978619e-08]])"
      ]
     },
     "execution_count": 76,
     "metadata": {},
     "output_type": "execute_result"
    }
   ],
   "source": [
    "predictions"
   ]
  },
  {
   "cell_type": "code",
   "execution_count": null,
   "id": "636dfac9",
   "metadata": {},
   "outputs": [],
   "source": []
  },
  {
   "cell_type": "markdown",
   "id": "fa795e8d",
   "metadata": {},
   "source": [
    "Creating nural network from tenser flow"
   ]
  },
  {
   "cell_type": "code",
   "execution_count": 83,
   "id": "be809110",
   "metadata": {},
   "outputs": [],
   "source": [
    "tf.random.set_seed(1234)\n",
    "model = tf.keras.models.Sequential(\n",
    "    [\n",
    "        tf.keras.Input(shape= (2,)),\n",
    "        Dense(3, activation = 'sigmoid', name = 'layer1'),\n",
    "        Dense(1, activation = 'sigmoid', name = 'layer2')\n",
    "        \n",
    "    ]\n",
    "    \n",
    ")\n"
   ]
  },
  {
   "cell_type": "code",
   "execution_count": 86,
   "id": "b45776d7",
   "metadata": {},
   "outputs": [
    {
     "name": "stdout",
     "output_type": "stream",
     "text": [
      "Model: \"sequential\"\n",
      "_________________________________________________________________\n",
      " Layer (type)                Output Shape              Param #   \n",
      "=================================================================\n",
      " layer1 (Dense)              (None, 3)                 9         \n",
      "                                                                 \n",
      " layer2 (Dense)              (None, 1)                 4         \n",
      "                                                                 \n",
      "=================================================================\n",
      "Total params: 13\n",
      "Trainable params: 13\n",
      "Non-trainable params: 0\n",
      "_________________________________________________________________\n"
     ]
    }
   ],
   "source": [
    "# model insight function \n",
    "model.summary()"
   ]
  },
  {
   "cell_type": "code",
   "execution_count": 93,
   "id": "a34c0a72",
   "metadata": {},
   "outputs": [],
   "source": [
    "#model in very basic steps\n",
    "activation_fuc =  'sigmoid'\n",
    "\n",
    "layer1 = Dense (5, activation= activation_fuc, name = \"layer1\")\n",
    "layer2 = Dense (4, activation= activation_fuc, name = 'layer2')\n",
    "layer3 = Dense (1, activation= activation_fuc, name = 'output')\n",
    "\n",
    "model1 = Sequential ([\n",
    "                        tf.keras.Input(shape = (2,)),\n",
    "                        layer1, layer2, layer3\n",
    "])\n",
    "\n"
   ]
  },
  {
   "cell_type": "code",
   "execution_count": 94,
   "id": "ff2aeafa",
   "metadata": {},
   "outputs": [
    {
     "name": "stdout",
     "output_type": "stream",
     "text": [
      "Model: \"sequential_3\"\n",
      "_________________________________________________________________\n",
      " Layer (type)                Output Shape              Param #   \n",
      "=================================================================\n",
      " layer1 (Dense)              (None, 5)                 15        \n",
      "                                                                 \n",
      " layer2 (Dense)              (None, 4)                 24        \n",
      "                                                                 \n",
      " output (Dense)              (None, 1)                 5         \n",
      "                                                                 \n",
      "=================================================================\n",
      "Total params: 44\n",
      "Trainable params: 44\n",
      "Non-trainable params: 0\n",
      "_________________________________________________________________\n"
     ]
    }
   ],
   "source": [
    "model1.summary()"
   ]
  }
 ],
 "metadata": {
  "kernelspec": {
   "display_name": "Python 3 (ipykernel)",
   "language": "python",
   "name": "python3"
  },
  "language_info": {
   "codemirror_mode": {
    "name": "ipython",
    "version": 3
   },
   "file_extension": ".py",
   "mimetype": "text/x-python",
   "name": "python",
   "nbconvert_exporter": "python",
   "pygments_lexer": "ipython3",
   "version": "3.9.15"
  }
 },
 "nbformat": 4,
 "nbformat_minor": 5
}
